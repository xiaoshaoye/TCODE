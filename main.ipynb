{
 "cells": [
  {
   "cell_type": "code",
   "execution_count": 2,
   "id": "a7e78e54",
   "metadata": {},
   "outputs": [],
   "source": [
    "import processing_table\n",
    "import config\n",
    "import os"
   ]
  },
  {
   "cell_type": "code",
   "execution_count": 4,
   "id": "82a409e9",
   "metadata": {},
   "outputs": [],
   "source": [
    "#Two useful functions are defined, one for storing data of the PYTHON dictionary type and one for reading data of the PYTHON dictionary type\n",
    "def readdic(file):\n",
    "    dict=[]\n",
    "    with open(file) as f:\n",
    "        lines = f.read().splitlines()\n",
    "        for line in lines:\n",
    "            dict.append(line)\n",
    "    f.close()\n",
    "    return dict\n",
    "def writedic(file,xsd):\n",
    "    output = open(file, 'w',encoding='utf-8')\n",
    "    for i in xsd:\n",
    "        str1=(str(i)).replace('\\n','')\n",
    "        str1=str1.replace('\\r','')\n",
    "        output.writelines(str1+'\\n')\n",
    "    output.close()"
   ]
  },
  {
   "cell_type": "code",
   "execution_count": 6,
   "id": "1cfeb3bc",
   "metadata": {},
   "outputs": [],
   "source": [
    "if __name__ == \"__main__\":\n",
    "    #Convert all web tables in the folder to a list#\n",
    "    if not os.path.exists(config.table_list):\n",
    "        table_list=processing_table.get_tables_list(config.data_dir)\n",
    "        #save#\n",
    "        writedic(config.table_list,table_list)\n",
    "        "
   ]
  }
 ],
 "metadata": {
  "kernelspec": {
   "display_name": "Python 3 (ipykernel)",
   "language": "python",
   "name": "python3"
  },
  "language_info": {
   "codemirror_mode": {
    "name": "ipython",
    "version": 3
   },
   "file_extension": ".py",
   "mimetype": "text/x-python",
   "name": "python",
   "nbconvert_exporter": "python",
   "pygments_lexer": "ipython3",
   "version": "3.9.7"
  }
 },
 "nbformat": 4,
 "nbformat_minor": 5
}
